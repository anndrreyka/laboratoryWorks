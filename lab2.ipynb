{
 "cells": [
  {
   "cell_type": "code",
   "execution_count": 2,
   "id": "6accf507",
   "metadata": {},
   "outputs": [
    {
     "name": "stdout",
     "output_type": "stream",
     "text": [
      "За допомогою методу половинного ділення: x = 1.704071044921875\n",
      "За допомогою методу хорд: x = 1.7040952449778046\n"
     ]
    }
   ],
   "source": [
    "def equation(x): \n",
    "\n",
    "    return 3*x**4 - 4*x**3 + x**2 - 2*x - 5 \n",
    "\n",
    "def bisection_method(a, b, epsilon): \n",
    "\n",
    "    if equation(a) * equation(b) >= 0: \n",
    "        print(\"Метод половинного ділення не може знайти розв'язок в даному інтервалі.\") \n",
    "        return None \n",
    "\n",
    "    while (b - a) >= epsilon: \n",
    "        c = (a + b) / 2 \n",
    "        if equation(c) == 0: \n",
    "\n",
    "            return c \n",
    "        if equation(c) * equation(a) < 0: \n",
    "            b = c \n",
    "        else: \n",
    "            a = c \n",
    "\n",
    "    return (a + b) / 2 \n",
    "\n",
    "def chord_method(a, b, epsilon): \n",
    "\n",
    "    x0 = a \n",
    "    x1 = b \n",
    "\n",
    "    while abs(x1 - x0) >= epsilon: \n",
    "\n",
    "        x2 = x1 - (equation(x1) * (x1 - x0)) / (equation(x1) - equation(x0)) \n",
    "        x0 = x1 \n",
    "        x1 = x2 \n",
    "\n",
    "    return x1 \n",
    "\n",
    "a = 0 \n",
    "b = 2 \n",
    "\n",
    "epsilon = 0.0001 \n",
    "\n",
    "result_bisection = bisection_method(a, b, epsilon) \n",
    "result_chord = chord_method(a, b, epsilon) \n",
    "\n",
    "print(f\"За допомогою методу половинного ділення: x = {result_bisection}\") \n",
    "print(f\"За допомогою методу хорд: x = {result_chord}\") "
   ]
  },
  {
   "cell_type": "code",
   "execution_count": null,
   "id": "dd79743c",
   "metadata": {},
   "outputs": [],
   "source": []
  }
 ],
 "metadata": {
  "kernelspec": {
   "display_name": "Python 3 (ipykernel)",
   "language": "python",
   "name": "python3"
  },
  "language_info": {
   "codemirror_mode": {
    "name": "ipython",
    "version": 3
   },
   "file_extension": ".py",
   "mimetype": "text/x-python",
   "name": "python",
   "nbconvert_exporter": "python",
   "pygments_lexer": "ipython3",
   "version": "3.11.5"
  }
 },
 "nbformat": 4,
 "nbformat_minor": 5
}
