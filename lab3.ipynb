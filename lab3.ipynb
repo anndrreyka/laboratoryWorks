{
 "cells": [
  {
   "cell_type": "code",
   "execution_count": 1,
   "id": "1929188e",
   "metadata": {},
   "outputs": [
    {
     "name": "stdout",
     "output_type": "stream",
     "text": [
      "Знайдено розв'язок: x = 1.70409533691489\n"
     ]
    }
   ],
   "source": [
    "import sympy as sp \n",
    "\n",
    "x = sp.symbols('x') \n",
    "\n",
    "f = 3*x**4 - 4*x**3 + x**2 - 2*x - 5 \n",
    "\n",
    "\n",
    "f_prime = sp.diff(f, x) \n",
    "\n",
    "x0 = 2.0   \n",
    "\n",
    "epsilon = 1e-6 \n",
    "\n",
    "max_iterations = 1000 \n",
    "\n",
    "\n",
    "for i in range(max_iterations): \n",
    "\n",
    "    fx0 = f.subs(x, x0) \n",
    "\n",
    "    if abs(fx0) < epsilon: \n",
    "\n",
    "        print(f\"Знайдено розв'язок: x = {x0}\") \n",
    "        break \n",
    "\n",
    "    fpx0 = f_prime.subs(x, x0) \n",
    "\n",
    "    if fpx0 == 0: \n",
    "\n",
    "        print(\"Похідна рівна нулю. Розв'язок не знайдено.\") \n",
    "        break \n",
    "\n",
    "    x0 = x0 - fx0 / fpx0 \n",
    "\n",
    "else: \n",
    "\n",
    "    print(\"Досягнуто максимальну кількість ітерацій. Розв'язок не знайдено.\") "
   ]
  },
  {
   "cell_type": "code",
   "execution_count": 2,
   "id": "d2f7e3a8",
   "metadata": {},
   "outputs": [
    {
     "name": "stdout",
     "output_type": "stream",
     "text": [
      "Результат: -0.7691547039204866\n"
     ]
    }
   ],
   "source": [
    "import math  \n",
    "\n",
    "def f(x): \n",
    "\n",
    "    return 3*x**4 - 4*x**3 + x**2 - 2*x - 5 \n",
    "\n",
    "def df(x): \n",
    "\n",
    "    return 12*x**3 - 12*x**2 + 2*x - 2 \n",
    "\n",
    "def combined_method(f, df, a, b, tol=1e-6, max_iter=100): \n",
    "\n",
    "    iter_count = 0 \n",
    "\n",
    "    while iter_count < max_iter: \n",
    "\n",
    "        iter_count += 1 \n",
    "        c = (a + b) / 2 \n",
    "\n",
    "        if abs(f(c)) < tol: \n",
    "            return c \n",
    "\n",
    "        if f(a) * f(c) < 0: \n",
    "\n",
    "            b = c \n",
    "        else: \n",
    "            a = c \n",
    "        if abs(df(c)) < tol: \n",
    "\n",
    "            return c \n",
    "\n",
    "        c -= f(c) / df(c) \n",
    "        \n",
    "        if abs(f(c)) < tol: \n",
    "            return c \n",
    "        if f(a) * f(c) < 0: \n",
    "\n",
    "            b = c \n",
    "        else: \n",
    "            a = c \n",
    "    raise Exception(\"Не вдалося знайти корінь за вказаною точністю та кількістю ітерацій.\") \n",
    "\n",
    " \n",
    "a = -4 \n",
    "b = 4 \n",
    "\n",
    "result = combined_method(f, df, a, b) \n",
    "\n",
    "print(\"Результат:\", result) "
   ]
  },
  {
   "cell_type": "code",
   "execution_count": null,
   "id": "42067e7f",
   "metadata": {},
   "outputs": [],
   "source": []
  }
 ],
 "metadata": {
  "kernelspec": {
   "display_name": "Python 3 (ipykernel)",
   "language": "python",
   "name": "python3"
  },
  "language_info": {
   "codemirror_mode": {
    "name": "ipython",
    "version": 3
   },
   "file_extension": ".py",
   "mimetype": "text/x-python",
   "name": "python",
   "nbconvert_exporter": "python",
   "pygments_lexer": "ipython3",
   "version": "3.11.5"
  }
 },
 "nbformat": 4,
 "nbformat_minor": 5
}
