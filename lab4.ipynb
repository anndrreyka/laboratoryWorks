{
 "cells": [
  {
   "cell_type": "code",
   "execution_count": 1,
   "id": "9521d273",
   "metadata": {},
   "outputs": [
    {
     "name": "stdout",
     "output_type": "stream",
     "text": [
      "Матриця C = AB - BA:\n",
      "[[ 4  1  9]\n",
      " [-2 -6  3]\n",
      " [-8 -9  2]]\n"
     ]
    }
   ],
   "source": [
    "import numpy as np\n",
    "\n",
    "\n",
    "A = np.array([[2, 3, 1],\n",
    "              [-1, 1, 0],\n",
    "              [1, 2, -1]])\n",
    "\n",
    "B = np.array([[1, 2, 1],\n",
    "              [0, 1, 2],\n",
    "              [3, 1, 1]])\n",
    "\n",
    "\n",
    "AB = np.dot(A, B)\n",
    "BA = np.dot(B, A)\n",
    "\n",
    "\n",
    "C = AB - BA\n",
    "\n",
    "# Виведення матриці C\n",
    "print(\"Матриця C = AB - BA:\")\n",
    "print(C)\n"
   ]
  },
  {
   "cell_type": "code",
   "execution_count": 2,
   "id": "dbdee7cc",
   "metadata": {},
   "outputs": [
    {
     "name": "stdout",
     "output_type": "stream",
     "text": [
      "Оригінальна матриця:\n",
      "[[-1  2]\n",
      " [ 0  1]]\n",
      "\n",
      "Матриця, піднесена до другого степеня:\n",
      "[[1 0]\n",
      " [0 1]]\n"
     ]
    }
   ],
   "source": [
    "import numpy as np\n",
    "\n",
    "matrix = np.array([[-1, 2],\n",
    "                   [0, 1]])\n",
    "\n",
    "result_matrix = np.dot(matrix, matrix)\n",
    "\n",
    "# Виведення результату\n",
    "print(\"Оригінальна матриця:\")\n",
    "print(matrix)\n",
    "print(\"\\nМатриця, піднесена до другого степеня:\")\n",
    "print(result_matrix)\n"
   ]
  },
  {
   "cell_type": "code",
   "execution_count": 3,
   "id": "3912433a",
   "metadata": {},
   "outputs": [
    {
     "name": "stdout",
     "output_type": "stream",
     "text": [
      "[[56]\n",
      " [69]\n",
      " [17]]\n"
     ]
    }
   ],
   "source": [
    "import numpy as np\n",
    "\n",
    "A = np.array([[5, 0, 2, 3],\n",
    "              [4, 1, 5, 3],\n",
    "              [3, 1, -1, 2]])\n",
    "\n",
    "B = np.array([[6],\n",
    "              [-2],\n",
    "              [7],\n",
    "              [4]])\n",
    "\n",
    "result = np.dot(A, B)\n",
    "\n",
    "print(result)\n"
   ]
  },
  {
   "cell_type": "code",
   "execution_count": 4,
   "id": "8f392679",
   "metadata": {},
   "outputs": [
    {
     "name": "stdout",
     "output_type": "stream",
     "text": [
      "Визначник матриці:\n",
      "200.0000000000001\n"
     ]
    }
   ],
   "source": [
    "import numpy as np\n",
    "\n",
    "matrix = np.array([[1, 5, -5],\n",
    "                  [4, 0, 3],\n",
    "                  [2, -10, 3]])\n",
    "\n",
    "determinant = np.linalg.det(matrix)\n",
    "\n",
    "print(\"Визначник матриці:\")\n",
    "print(determinant)\n"
   ]
  },
  {
   "cell_type": "code",
   "execution_count": 5,
   "id": "94edffd6",
   "metadata": {},
   "outputs": [
    {
     "name": "stdout",
     "output_type": "stream",
     "text": [
      "Визначник матриці:\n",
      "-160.00000000000009\n"
     ]
    }
   ],
   "source": [
    "import numpy as np\n",
    "\n",
    "\n",
    "matrix = np.array([[2, 3, 4, 1],\n",
    "                  [1, 2, 3, 4],\n",
    "                  [3, 4, 1, 2],\n",
    "                  [4, 1, 2, 3]])\n",
    "\n",
    "determinant = np.linalg.det(matrix)\n",
    "\n",
    "\n",
    "print(\"Визначник матриці:\")\n",
    "print(determinant)\n"
   ]
  },
  {
   "cell_type": "code",
   "execution_count": 6,
   "id": "b4815280",
   "metadata": {},
   "outputs": [
    {
     "name": "stdout",
     "output_type": "stream",
     "text": [
      "Обернена матриця:\n",
      "[[ 0.25  0.25  0.25  0.25]\n",
      " [ 0.25  0.25 -0.25 -0.25]\n",
      " [ 0.25 -0.25  0.25 -0.25]\n",
      " [ 0.25 -0.25 -0.25  0.25]]\n"
     ]
    }
   ],
   "source": [
    "import numpy as np\n",
    "\n",
    "# Ваша матриця\n",
    "matrix = np.array([[1, 1, 1, 1],\n",
    "                  [1, 1, -1, -1],\n",
    "                  [1, -1, 1, -1],\n",
    "                  [1, -1, -1, 1]])\n",
    "\n",
    "# Знаходження оберненої матриці\n",
    "inverse_matrix = np.linalg.inv(matrix)\n",
    "\n",
    "print(\"Обернена матриця:\")\n",
    "print(inverse_matrix)\n"
   ]
  },
  {
   "cell_type": "code",
   "execution_count": 7,
   "id": "525667cf",
   "metadata": {},
   "outputs": [
    {
     "name": "stdout",
     "output_type": "stream",
     "text": [
      "Ранг матриці:  3\n"
     ]
    }
   ],
   "source": [
    "import numpy as np\n",
    "\n",
    "matrix = np.array([[-2, 3, 1, -1],\n",
    "                  [3, 2, 1, 4],\n",
    "                  [1, 2, 3, 4],\n",
    "                  [0, 2, 3, 3]])\n",
    "\n",
    "num_rows, num_cols = matrix.shape\n",
    "\n",
    "rank = min(num_rows, num_cols)\n",
    "\n",
    "\n",
    "if not all(matrix[-1, :] == 0):\n",
    "    for i in range(rank):\n",
    "        max_val = abs(matrix[i, i])\n",
    "        max_row = i\n",
    "        for j in range(i + 1, num_rows):\n",
    "            if abs(matrix[j, i]) > max_val:\n",
    "                max_val = abs(matrix[j, i])\n",
    "                max_row = j\n",
    "\n",
    "        if max_val == 0:\n",
    "            continue\n",
    "\n",
    "        if max_row != i:\n",
    "            matrix[[i, max_row]] = matrix[[max_row, i]]\n",
    "\n",
    "        for j in range(i + 1, num_rows):\n",
    "            factor = int(matrix[j, i] / matrix[i, i])  \n",
    "            matrix[j, i:] -= factor * matrix[i, i]\n",
    "\n",
    "\n",
    "for i in range(rank):\n",
    "    if all(matrix[i, i:] == 0):\n",
    "        rank = i\n",
    "        break\n",
    "\n",
    "num_cols = matrix.shape[1]\n",
    "\n",
    "print(\"Ранг матриці: \", rank)\n"
   ]
  },
  {
   "cell_type": "code",
   "execution_count": null,
   "id": "aab25e46",
   "metadata": {},
   "outputs": [],
   "source": []
  }
 ],
 "metadata": {
  "kernelspec": {
   "display_name": "Python 3 (ipykernel)",
   "language": "python",
   "name": "python3"
  },
  "language_info": {
   "codemirror_mode": {
    "name": "ipython",
    "version": 3
   },
   "file_extension": ".py",
   "mimetype": "text/x-python",
   "name": "python",
   "nbconvert_exporter": "python",
   "pygments_lexer": "ipython3",
   "version": "3.11.5"
  }
 },
 "nbformat": 4,
 "nbformat_minor": 5
}
