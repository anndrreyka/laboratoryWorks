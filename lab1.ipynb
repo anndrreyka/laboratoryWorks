{
 "cells": [
  {
   "cell_type": "code",
   "execution_count": 2,
   "id": "3228ff41",
   "metadata": {},
   "outputs": [
    {
     "name": "stdout",
     "output_type": "stream",
     "text": [
      "13/17 = 0.764 є більш точною рівністю\n"
     ]
    }
   ],
   "source": [
    "import math \n",
    "\n",
    "sqrt_value = math.sqrt(31) \n",
    "fraction_value = 13 / 17 \n",
    "\n",
    "\n",
    "error_sqrt = abs(sqrt_value - 5.56) \n",
    "error_fraction = abs(fraction_value - 0.764) \n",
    "\n",
    "\n",
    "if error_sqrt < error_fraction: \n",
    "    print(\"sqrt(31) = 5.56 є більш точною рівністю\") \n",
    "\n",
    "else: \n",
    "    print(\"13/17 = 0.764 є більш точною рівністю\") "
   ]
  },
  {
   "cell_type": "code",
   "execution_count": null,
   "id": "bcabd6e3",
   "metadata": {},
   "outputs": [],
   "source": []
  }
 ],
 "metadata": {
  "kernelspec": {
   "display_name": "Python 3 (ipykernel)",
   "language": "python",
   "name": "python3"
  },
  "language_info": {
   "codemirror_mode": {
    "name": "ipython",
    "version": 3
   },
   "file_extension": ".py",
   "mimetype": "text/x-python",
   "name": "python",
   "nbconvert_exporter": "python",
   "pygments_lexer": "ipython3",
   "version": "3.11.5"
  }
 },
 "nbformat": 4,
 "nbformat_minor": 5
}
